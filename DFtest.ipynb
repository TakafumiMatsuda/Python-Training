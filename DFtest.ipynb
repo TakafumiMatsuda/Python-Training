{
  "nbformat": 4,
  "nbformat_minor": 0,
  "metadata": {
    "colab": {
      "name": "DFtest",
      "provenance": [],
      "collapsed_sections": [],
      "toc_visible": true,
      "include_colab_link": true
    },
    "kernelspec": {
      "display_name": "Python 3",
      "name": "python3"
    }
  },
  "cells": [
    {
      "cell_type": "markdown",
      "metadata": {
        "id": "view-in-github",
        "colab_type": "text"
      },
      "source": [
        "<a href=\"https://colab.research.google.com/github/TakafumiMatsuda/Python-Training/blob/master/DFtest.ipynb\" target=\"_parent\"><img src=\"https://colab.research.google.com/assets/colab-badge.svg\" alt=\"Open In Colab\"/></a>"
      ]
    },
    {
      "cell_type": "code",
      "metadata": {
        "id": "-rBuXcBdd5vg",
        "colab_type": "code",
        "outputId": "6b34d0fc-1dd2-467b-e69c-89cb300448bd",
        "colab": {
          "base_uri": "https://localhost:8080/",
          "height": 34
        }
      },
      "source": [
        "import pandas as pd\n",
        "import csv\n",
        "import numpy as np\n",
        "# from google.colab import files\n",
        "# files.upload()\n",
        "\n",
        "# データフレームにデータをセット\n",
        "df = pd.DataFrame([{'data1': 'ABC', 'data2': 100, 'data3': 3.14, 'data4': np.nan, 'data5': '', 'data6': \"\"}])\n",
        "# CSVファイルを出力\n",
        "df.to_csv('output.csv', index=False, encoding='utf-8', quoting=csv.QUOTE_ALL)\n",
        "# ダウンロード\n",
        "from google.colab import files\n",
        "files.download('output.csv')\n",
        "\n",
        "print('fin')"
      ],
      "execution_count": 0,
      "outputs": [
        {
          "output_type": "stream",
          "text": [
            "fin\n"
          ],
          "name": "stdout"
        }
      ]
    }
  ]
}