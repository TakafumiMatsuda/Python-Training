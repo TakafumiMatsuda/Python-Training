{
  "nbformat": 4,
  "nbformat_minor": 0,
  "metadata": {
    "colab": {
      "name": "GradCam1.ipynb",
      "provenance": [],
      "collapsed_sections": [],
      "authorship_tag": "ABX9TyMvj8raRDRU3Ab75ZvoDaPI",
      "include_colab_link": true
    },
    "kernelspec": {
      "name": "python3",
      "display_name": "Python 3"
    },
    "accelerator": "GPU"
  },
  "cells": [
    {
      "cell_type": "markdown",
      "metadata": {
        "id": "view-in-github",
        "colab_type": "text"
      },
      "source": [
        "<a href=\"https://colab.research.google.com/github/TakafumiMatsuda/Python-Training/blob/master/GradCam1.ipynb\" target=\"_parent\"><img src=\"https://colab.research.google.com/assets/colab-badge.svg\" alt=\"Open In Colab\"/></a>"
      ]
    },
    {
      "cell_type": "code",
      "metadata": {
        "id": "i-O_Xayn6o6V",
        "colab_type": "code",
        "colab": {}
      },
      "source": [
        "#https://qiita.com/sasayabaku/items/fd8923cf0e769104cc95\n",
        "#初心者のGradCAM | CNNの視覚化\n",
        "\n",
        "import pandas as pd\n",
        "import numpy as np\n",
        "import os\n",
        "\n",
        "import torch\n",
        "import torch.nn as nn\n",
        "from torch import Tensor\n",
        "import torch.nn.functional as F\n",
        "from torch.autograd import Variable \n",
        "from torch.utils.data import DataLoader\n",
        "from torch.optim.lr_scheduler import ExponentialLR\n",
        "\n",
        "from torchvision.datasets import CIFAR10 \n",
        "import torchvision.transforms as transforms\n",
        "#from model import CNNModel\n",
        "\n",
        "device = torch.device(\"cuda\" if torch.cuda.is_available() else \"cpu\")"
      ],
      "execution_count": 0,
      "outputs": []
    },
    {
      "cell_type": "code",
      "metadata": {
        "id": "WQgIe6hTcf-K",
        "colab_type": "code",
        "colab": {}
      },
      "source": [
        "#ハイパーパラメータ\n",
        "cifar_data_root = './data'\n",
        "batch_size = 50\n",
        "epochs = 5"
      ],
      "execution_count": 0,
      "outputs": []
    },
    {
      "cell_type": "code",
      "metadata": {
        "id": "Ql8CIHjYckOA",
        "colab_type": "code",
        "outputId": "b2182a8f-f6a6-49b2-ff1b-776339420331",
        "colab": {
          "base_uri": "https://localhost:8080/",
          "height": 51
        }
      },
      "source": [
        "###データ準備\n",
        "#Transform定義\n",
        "transform = transforms.Compose(\n",
        "    [transforms.ToTensor      (),\n",
        "    transforms.Normalize((0.5, 0.5, 0.5), (0.5, 0.5, 0.5 ))]\n",
        ")\n",
        "train_data = CIFAR10(root=cifar_data_root, download=True, train=True, transform=transform) \n",
        "test_data = CIFAR10(root=cifar_data_root, download=True, train=False, transform=transform) \n",
        "train_loader = torch.utils.data.DataLoader(train_data, batch_size=batch_size,\n",
        "                                          shuffle=True, num_workers=4)\n",
        "test_loader = torch.utils.data.DataLoader(test_data, batch_size=batch_size,\n",
        "                                         shuffle=False, num_workers=4)\n",
        "\n",
        "classes = ('plane', 'car', 'bird', 'cat',\n",
        "           'deer', 'dog', 'frog', 'horse', 'ship', 'truck')"
      ],
      "execution_count": 0,
      "outputs": [
        {
          "output_type": "stream",
          "text": [
            "Files already downloaded and verified\n",
            "Files already downloaded and verified\n"
          ],
          "name": "stdout"
        }
      ]
    },
    {
      "cell_type": "code",
      "metadata": {
        "id": "JWTWnXWM_krv",
        "colab_type": "code",
        "outputId": "4f01e750-57b9-413c-eb87-7bf5d0d153cc",
        "colab": {
          "base_uri": "https://localhost:8080/",
          "height": 187
        }
      },
      "source": [
        "###モデル定義\n",
        "###★★improveNet1★★###\n",
        "import torch.nn as nn\n",
        "import torch.nn.functional as F\n",
        "\n",
        "#画像は3チャネル(RGB)×32ピクセル×32ピクセル　※3チャネル: 元の画像を光の三原色に分解\n",
        "class Net(nn.Module):\n",
        "    def __init__(self):\n",
        "        super(Net, self).__init__()\n",
        "        self.conv1 = nn.Conv2d(3, 64, kernel_size=3, stride=1, padding=0)  \n",
        "        self.pool1 = nn.MaxPool2d(kernel_size=2, stride=2) #MAXプーリング層\n",
        "        self.conv2 = nn.Conv2d(64, 128, kernel_size=3, stride=1, padding=0)\n",
        "        self.pool2 = nn.MaxPool2d(kernel_size=2, stride=2) #MAXプーリング層\n",
        "        self.conv3 = nn.Conv2d(128, 128, kernel_size=3, stride=1, padding=0) \n",
        "        self.pool3 = nn.MaxPool2d(kernel_size=2, stride=1) #MAXプーリング層\n",
        "        ######self.view = np.view(self.size(0), -1) #★失敗\n",
        "        #self.pool2 = nn.AvgPool2d(kernel_size=3) #GlobalAveragePooling\n",
        "        self.fc1 = nn.Linear(128 * 3 * 3, 120) #[512, 120]\n",
        "        self.fc2 = nn.Linear(120, 10) #10クラス #出力層\n",
        "\n",
        "    def forward(self, x):\n",
        "        #print(x.shape) #[50, 3, 32, 32](ker=3) [bachsize, channel, 32*32]\n",
        "        x = self.pool1(F.relu(self.conv1(x))) #convで32→30、poolで30→15(ker=3)　\n",
        "        #print(x.shape) #[50, 64, 15, 15](ker=3)\n",
        "        x = self.pool2(F.relu(self.conv2(x))) #convで15→13、poolで13→6\n",
        "        #print(x.shape) #[50, 128, 6, 6](ker=3)\n",
        "        x = self.pool3(F.relu(self.conv3(x))) #convで6→4、poolで4→2\n",
        "        #print(x.shape) #[50, 128, 2, 2]　←☆CAMを行うためにはここで画像サイズが1,1になっている(GlobalAveragePooling)ことが必要\n",
        "        #print('--------')\n",
        "        #x = x.view(-1, 128 * 2 * 2)\n",
        "        x = x.view(x.size(0), -1) #4次元(batch, 直前のoutputチャネル数, kernel, kernel)のデータを2次元(batch, output*out*ker*ker)にして全結合層に渡す\n",
        "        #print(x.shape) #[50, 512]\n",
        "        \n",
        "        x = F.relu(self.fc1(x))\n",
        "        #x = F.relu(self.fc2(x))\n",
        "        #print(x.shape) #[50, 120]\n",
        "\n",
        "        x = self.fc2(x)\n",
        "        #print(x.shape) #[50, (1, 1,) 10] (ker=5)\n",
        "\n",
        "        return x\n",
        "\n",
        "net = Net()\n",
        "net.to(device) #GPUに渡す"
      ],
      "execution_count": 0,
      "outputs": [
        {
          "output_type": "execute_result",
          "data": {
            "text/plain": [
              "Net(\n",
              "  (conv1): Conv2d(3, 64, kernel_size=(3, 3), stride=(1, 1))\n",
              "  (pool1): MaxPool2d(kernel_size=2, stride=2, padding=0, dilation=1, ceil_mode=False)\n",
              "  (conv2): Conv2d(64, 128, kernel_size=(3, 3), stride=(1, 1))\n",
              "  (pool2): MaxPool2d(kernel_size=2, stride=2, padding=0, dilation=1, ceil_mode=False)\n",
              "  (conv3): Conv2d(128, 128, kernel_size=(3, 3), stride=(1, 1))\n",
              "  (pool3): MaxPool2d(kernel_size=2, stride=1, padding=0, dilation=1, ceil_mode=False)\n",
              "  (fc1): Linear(in_features=1152, out_features=120, bias=True)\n",
              "  (fc2): Linear(in_features=120, out_features=10, bias=True)\n",
              ")"
            ]
          },
          "metadata": {
            "tags": []
          },
          "execution_count": 130
        }
      ]
    },
    {
      "cell_type": "code",
      "metadata": {
        "id": "FBk18G5kz2oR",
        "colab_type": "code",
        "colab": {}
      },
      "source": [
        "model = Net().to(device)\n",
        "\n",
        "criterion = nn.CrossEntropyLoss()\n",
        "optimizer = torch.optim.Adam(model.parameters(), lr=1e-2)\n",
        "schedular = ExponentialLR(optimizer, gamma=0.95)"
      ],
      "execution_count": 0,
      "outputs": []
    },
    {
      "cell_type": "code",
      "metadata": {
        "id": "7qIDVH5Tcokj",
        "colab_type": "code",
        "outputId": "af54f067-3dc4-41b7-a813-c6705567118e",
        "colab": {
          "base_uri": "https://localhost:8080/",
          "height": 156
        }
      },
      "source": [
        "###学習\n",
        "for epoch in range(epochs):\n",
        "    \n",
        "    schedular.step()\n",
        "    \n",
        "    epoch_loss =  0\n",
        "    correct = 0\n",
        "    total = 0\n",
        "    for i, samples in enumerate(train_loader):\n",
        "        data, labels = samples\n",
        "        \n",
        "        data = data.to(device)\n",
        "        labels = labels.to(device)\n",
        "        \n",
        "        optimizer.zero_grad()\n",
        "        \n",
        "        outputs = model(data)\n",
        "        loss = criterion(outputs, labels) \n",
        "        epoch_loss += loss.item()\n",
        "        \n",
        "        predicted = outputs.max(1, keepdim=True)[1]\n",
        "        correct += predicted.eq(labels.view_as(predicted)).sum().item()\n",
        "        total += labels.size(0)\n",
        "        \n",
        "        loss.backward()\n",
        "        optimizer.step()\n",
        "    print('{} epoch: Loss {}, Accuracy {}'.format((epoch+1),\n",
        "                               epoch_loss / len(train_loader),\n",
        "                               correct / total\n",
        "                               ))\n",
        "    "
      ],
      "execution_count": 0,
      "outputs": [
        {
          "output_type": "stream",
          "text": [
            "/usr/local/lib/python3.6/dist-packages/torch/optim/lr_scheduler.py:122: UserWarning: Detected call of `lr_scheduler.step()` before `optimizer.step()`. In PyTorch 1.1.0 and later, you should call them in the opposite order: `optimizer.step()` before `lr_scheduler.step()`.  Failure to do this will result in PyTorch skipping the first value of the learning rate schedule. See more details at https://pytorch.org/docs/stable/optim.html#how-to-adjust-learning-rate\n",
            "  \"https://pytorch.org/docs/stable/optim.html#how-to-adjust-learning-rate\", UserWarning)\n"
          ],
          "name": "stderr"
        },
        {
          "output_type": "stream",
          "text": [
            "1 epoch: Loss 1.7809701092243195, Accuracy 0.34028\n",
            "2 epoch: Loss 1.605231929898262, Accuracy 0.41026\n",
            "3 epoch: Loss 1.5686793940067292, Accuracy 0.426\n",
            "4 epoch: Loss 1.5375849734544753, Accuracy 0.43786\n",
            "5 epoch: Loss 1.5080163995027542, Accuracy 0.45146\n"
          ],
          "name": "stdout"
        }
      ]
    },
    {
      "cell_type": "code",
      "metadata": {
        "id": "hZqtcEq3cpSF",
        "colab_type": "code",
        "outputId": "38b14e0e-fb30-40d3-ade0-cd7f26342e7f",
        "colab": {
          "base_uri": "https://localhost:8080/",
          "height": 238
        }
      },
      "source": [
        "###Grad-CAMによる可視化\n",
        "import pandas as pd\n",
        "import os\n",
        "import numpy as np\n",
        "from PIL import Image\n",
        "import matplotlib.pyplot as plt\n",
        "import sys\n",
        "\n",
        "#Flattenの実装(PyTorchには，多次元配列を1次元の配列に変換する．Flattenがないので実装)\n",
        "class Flatten(nn.Module):\n",
        "    def __init__(self):\n",
        "        super(Flatten, self).__init__()\n",
        "    \n",
        "    def forward(self, x):\n",
        "        return x.view(x.size(0), -1)\n",
        "\n",
        "#特徴設計部の最終出力 & 識別部の出力を取得\n",
        "feature_fn = torch.nn.Sequential(*list(model.children())[:-2]).to(device) #Sequentialにリストを渡してやる\n",
        "#print(list(model.children())[:-2]) #[:-2]: リストの最後の2つのを除いた要素（MaxPoolまで）\n",
        "#print(list(model.children())) \n",
        "#print(list(model.children())[:-1])\n",
        "print(feature_fn) \n",
        "\n",
        "classfier_fn = torch.nn.Sequential(*(list(model.children())[-2:-1] + [Flatten()]\n",
        "                                    + list(model.children())[-1:]\n",
        "                                    )).to(device)\n",
        "#print(list(model.children())[-2:-1]) #512*120\n",
        "#print([Flatten()])\n",
        "#print(list(model.children())[-1:])\n",
        "print(classfier_fn) \n",
        "\n",
        "#GradCAM\n",
        "def GradCam(img, c, feature_fn, classifier_fn): #(input, class label, 特徴量層, 全結合層)\n",
        "    #print('img = ',img.shape) #torch.Size([1, 3, 32, 32])\n",
        "    feats = feature_fn(img.to(device)) #img\n",
        "    _, N, H, W = feats.size()\n",
        "    #print(feats)\n",
        "    #print(feats.size()) #torch.Size([1, 128, 13, 13]) = print(feats.shape)　★ここが[1, 128 , 2, 2]になってないとおかしい！！\n",
        "    #print(feats.size(0)) #1\n",
        "    #print(feats.view(feats.size(0))) #shape '[1]' is invalid for input of size 21632\n",
        "    #print(feats.view(feats.size(0), -1)) #tensor([[-70.0952, -72.0486, -69.8751,  ..., -74.4457, -74.7196, -76.3472]], device='cuda:0', grad_fn=<ViewBackward>)\n",
        "    #view: 4次元(1, 直前のoutputチャネル数, kernel, kernel)のデータを2次元(batch, output*out*ker*ker)に [1, 128*13*13]=[1, 21632]\n",
        "    out = classifier_fn(feats.view(feats.size(0), -1))\n",
        "    c_score = out[0, c]\n",
        "    print(c_score)\n",
        "    grads = torch.autograd.grad(c_score, feats) #(input, output): inputに対するoutputの勾配の合計\n",
        "    print(grads)\n",
        "    w = grads[0][0].mean(-1).mean(-1) #全ピクセルについて平均\n",
        "    sal = torch.matmul(w, feats.view(N, H*W))\n",
        "    sal = F.relu(sal) #Reluを行う\n",
        "    sal = sal.view(H, W).cpu().detach().numpy()\n",
        "    sal = np.maximum(sal, 0)\n",
        "    return sal, out, c_score, feats, grads, w\n",
        "\n",
        "#全結合層では画像の位置に関連した情報を完全に失ってしまう。一方、入力に近いところでは抽象度の低い認識しか行われない。\n",
        "#CNNの部分の最終（全結合層の入力に当たる部分）に双方を満たす情報がある\n",
        "\n",
        "###Grand-CAM###\n",
        "#クラスごとの確率スコアへの影響が大きい画像箇所を微分係数（特徴量マップ*においてある画像箇所に微小変化を加えたときに確率スコアに生じる変化の大きさを表す係数）の平均化によって特定する\n",
        "#出力対象クラス以外の勾配を0にセットして対象クラスのみを1に設定する。\n",
        "#★前提となるアイディア：クラス判定に与える影響が大きい画像箇所は、確率スコアの微分係数も大きい！\n",
        "\n",
        "###CAMの欠点###\n",
        "#ネットワークの全結合層がGlobal Average Pooling(画像サイズが(1*1)になるプーリング)層に置き換わってなくてはならない。conv->global average->softmax\n",
        "#また最終層ではチャネル数 = クラス数となっている必要あり\n",
        "\n",
        "\n",
        "\n",
        "#*入力画像をCNNの特徴抽出器（全結合層より前の部分）に通して得られる特徴量を画像として出力した2次元マップ"
      ],
      "execution_count": 0,
      "outputs": [
        {
          "output_type": "stream",
          "text": [
            "Sequential(\n",
            "  (0): Conv2d(3, 64, kernel_size=(3, 3), stride=(1, 1))\n",
            "  (1): MaxPool2d(kernel_size=2, stride=2, padding=0, dilation=1, ceil_mode=False)\n",
            "  (2): Conv2d(64, 128, kernel_size=(3, 3), stride=(1, 1))\n",
            "  (3): MaxPool2d(kernel_size=2, stride=2, padding=0, dilation=1, ceil_mode=False)\n",
            "  (4): Conv2d(128, 128, kernel_size=(3, 3), stride=(1, 1))\n",
            "  (5): MaxPool2d(kernel_size=2, stride=1, padding=0, dilation=1, ceil_mode=False)\n",
            ")\n",
            "Sequential(\n",
            "  (0): Linear(in_features=1152, out_features=120, bias=True)\n",
            "  (1): Flatten()\n",
            "  (2): Linear(in_features=120, out_features=10, bias=True)\n",
            ")\n"
          ],
          "name": "stdout"
        }
      ]
    },
    {
      "cell_type": "code",
      "metadata": {
        "id": "yJUZYFgrcpXJ",
        "colab_type": "code",
        "outputId": "831e2c21-dbb6-40f9-8cee-ae7705874204",
        "colab": {
          "base_uri": "https://localhost:8080/",
          "height": 742
        }
      },
      "source": [
        "###GradCAMの実行\n",
        "#対象画像の取得\n",
        "input_index = 2\n",
        "input_data = test_loader.dataset[input_index][0]\n",
        "#print(len(input_data)) #3\n",
        "input_data = input_data.view(1, input_data.shape[0], input_data.shape[1], input_data.shape[2]).to(device)\n",
        "#print(input_data.shape[0])\n",
        "#print(input_data.shape[1])\n",
        "#print(input_data.shape[2])\n",
        "#print(input_data.__getitem__(0)[0].shape) #[32, 32]\n",
        "#print(len(input_data)) #1\n",
        "\n",
        "#上位2クラスの識別部の出力 & クラスラベルを取得\n",
        "pp, cc = torch.topk(nn.Softmax(dim=1)(model(input_data)), 2) \n",
        "#topk()は，上位kクラスのデータとクラスラベルを取得する関数\n",
        "#pp → CNNモデルの出力層の出力\n",
        "#cc → それに対応するクラスラベル\n",
        "\n",
        "#print(pp) #[[0.1103, 0.1036]]\n",
        "#print(cc) #5,3\n",
        "#print(cc[0])\n",
        "#print(cc[0][0]) #5\n",
        "\n",
        "#saliency mapの取得\n",
        "sal, out, c_score, feats, grads, w = GradCam(input_data, cc[0][0], feature_fn, classfier_fn)\n",
        "#sal → cc[0][0]で指定したクラスラベルにおける勾配のSaliency Map\n",
        "#cc[0][0]\n",
        "\n",
        "#取得したSaliency Mapを画像化\n",
        "img = input_data.permute(0, 2, 3, 1).view(input_data.shape[2], input_data.shape[3], input_data.shape[1]).cpu().numpy()\n",
        "img_sal = Image.fromarray(sal).resize(img.shape[0:2], resample=Image.LINEAR)\n",
        "\n",
        "#表示\n",
        "plt.imshow(img)\n",
        "plt.imshow(np.array(img_sal), alpha=0.5, cmap=\"jet\")\n",
        "plt.colorbar()\n",
        "\n",
        "\n",
        "#内積をとる行列のサイズが不正な場合: RuntimeError: size mismatch, m1: [1*21632]実際の入力　入力, m2: [512 x 120]定義した入力\n",
        "#self.fc1 = nn.Linear(128 * 2 * 2, 120) と定義した\n",
        "##########classiferのinputは512*120\n",
        "#Sequential((0): Linear(in_features=512, out_features=120, bias=True)\n",
        "#           (1): Flatten()\n",
        "#           (2): Linear(in_features=120, out_features=10, bias=True))\n",
        "#########\n",
        "#RuntimeError: non-empty 3D or 4D (batch mode) tensor expected for input"
      ],
      "execution_count": 0,
      "outputs": [
        {
          "output_type": "stream",
          "text": [
            "Clipping input data to the valid range for imshow with RGB data ([0..1] for floats or [0..255] for integers).\n"
          ],
          "name": "stderr"
        },
        {
          "output_type": "stream",
          "text": [
            "tensor(6277.3975, device='cuda:0', grad_fn=<SelectBackward>)\n",
            "(tensor([[[[ 0.3545,  0.2361,  0.2792],\n",
            "          [ 0.2153,  0.3125,  0.2968],\n",
            "          [ 0.1083,  0.0903,  0.0377]],\n",
            "\n",
            "         [[ 0.3121,  0.4373,  0.6679],\n",
            "          [ 0.4953,  0.4055,  0.3506],\n",
            "          [ 0.3427,  0.3092,  0.2812]],\n",
            "\n",
            "         [[ 0.0913,  0.1146, -0.0196],\n",
            "          [ 0.0692,  0.0960, -0.0041],\n",
            "          [ 0.0201, -0.0404,  0.0864]],\n",
            "\n",
            "         ...,\n",
            "\n",
            "         [[ 0.2001,  0.0173, -0.1040],\n",
            "          [-0.0079,  0.1449,  0.2248],\n",
            "          [-0.2641, -0.0076,  0.3195]],\n",
            "\n",
            "         [[ 0.1612, -0.8022, -1.2881],\n",
            "          [ 0.4336,  0.0470, -0.1490],\n",
            "          [ 0.0137, -0.6759,  0.1796]],\n",
            "\n",
            "         [[-0.0406, -0.0379, -0.0991],\n",
            "          [ 0.0180,  0.0221, -0.0284],\n",
            "          [ 0.0546,  0.0481, -0.1114]]]], device='cuda:0'),)\n"
          ],
          "name": "stdout"
        },
        {
          "output_type": "execute_result",
          "data": {
            "text/plain": [
              "<matplotlib.colorbar.Colorbar at 0x7fda6925e828>"
            ]
          },
          "metadata": {
            "tags": []
          },
          "execution_count": 137
        },
        {
          "output_type": "display_data",
          "data": {
            "image/png": "[encoded data removed]",
            "text/plain": [
              "<Figure size 432x288 with 2 Axes>"
            ]
          },
          "metadata": {
            "tags": []
          }
        }
      ]
    },
    {
      "cell_type": "code",
      "metadata": {
        "id": "pOfjGae7g2-h",
        "colab_type": "code",
        "outputId": "2db595b4-0626-416b-a18a-af08bb2830d7",
        "colab": {
          "base_uri": "https://localhost:8080/",
          "height": 153
        }
      },
      "source": [
        "#動かなかったやつ\n",
        "###モデル定義（動かない…）\n",
        "class CNNModel(nn.Module):\n",
        "    def __init__(self):\n",
        "        super(CNNModel, self).__init__()\n",
        "        self.conv1 = nn.Conv2d(3, 64, kernel_size=5)\n",
        "        self.pool1 = nn.MaxPool2d(kernel_size=3)\n",
        "        self.conv2 = nn.Conv2d(64, 32, kernel_size=5)\n",
        "        self.pool2 = nn.MaxPool2d(kernel_size=3)\n",
        "        self.conv3 = nn.Conv2d(32, 16, kernel_size=5)\n",
        "        self.pool3 = nn.MaxPool2d(kernel_size=3)\n",
        "        self.fc1 = nn.Linear(90, 2000)\n",
        "        self.fc2 = nn.Linear(2000, 10)\n",
        "\n",
        "    def forward(self, x):\n",
        "        out = self.pool1(F.relu(self.conv1(x)))\n",
        "        out = self.pool2(F.relu(self.conv2(out)))\n",
        "        out = self.pool3(F.relu(self.conv3(out)))\n",
        "        out = out.view(out.size(0), -1)\n",
        "        out = F.relu(self.fc1(out))\n",
        "        out = self.fc2(out)\n",
        "\n",
        "        return out\n",
        "\n",
        "net = Net()\n",
        "net.to(device) #GPUに渡す"
      ],
      "execution_count": 0,
      "outputs": [
        {
          "output_type": "execute_result",
          "data": {
            "text/plain": [
              "Net(\n",
              "  (conv1): Conv2d(3, 64, kernel_size=(3, 3), stride=(1, 1))\n",
              "  (conv2): Conv2d(64, 128, kernel_size=(3, 3), stride=(1, 1))\n",
              "  (conv3): Conv2d(128, 128, kernel_size=(3, 3), stride=(1, 1))\n",
              "  (pool): MaxPool2d(kernel_size=2, stride=2, padding=0, dilation=1, ceil_mode=False)\n",
              "  (fc1): Linear(in_features=512, out_features=120, bias=True)\n",
              "  (fc2): Linear(in_features=120, out_features=10, bias=True)\n",
              ")"
            ]
          },
          "metadata": {
            "tags": []
          },
          "execution_count": 68
        }
      ]
    }
  ]
}